{
 "cells": [
  {
   "cell_type": "code",
   "execution_count": 6,
   "id": "cb641e4a-dad2-4f66-b67d-8269debd4bfc",
   "metadata": {},
   "outputs": [
    {
     "ename": "ImportError",
     "evalue": "/work/westgroup/nora/miniconda/envs/HW2_env/lib/python3.9/site-packages/psi4/core.cpython-39-x86_64-linux-gnu.so: undefined symbol: __svml_exp4_mask_e9",
     "output_type": "error",
     "traceback": [
      "\u001b[0;31m---------------------------------------------------------------------------\u001b[0m",
      "\u001b[0;31mImportError\u001b[0m                               Traceback (most recent call last)",
      "File \u001b[0;32m/work/westgroup/nora/miniconda/envs/HW2_env/lib/python3.9/site-packages/psi4/__init__.py:55\u001b[0m\n\u001b[1;32m     54\u001b[0m \u001b[38;5;28;01mtry\u001b[39;00m:\n\u001b[0;32m---> 55\u001b[0m     \u001b[38;5;28;01mfrom\u001b[39;00m \u001b[38;5;21;01m.\u001b[39;00m \u001b[38;5;28;01mimport\u001b[39;00m core\n\u001b[1;32m     56\u001b[0m \u001b[38;5;28;01mexcept\u001b[39;00m \u001b[38;5;167;01mImportError\u001b[39;00m \u001b[38;5;28;01mas\u001b[39;00m err:\n",
      "\u001b[0;31mImportError\u001b[0m: /work/westgroup/nora/miniconda/envs/HW2_env/lib/python3.9/site-packages/psi4/core.cpython-39-x86_64-linux-gnu.so: undefined symbol: __svml_exp4_mask_e9",
      "\nDuring handling of the above exception, another exception occurred:\n",
      "\u001b[0;31mImportError\u001b[0m                               Traceback (most recent call last)",
      "Cell \u001b[0;32mIn[6], line 2\u001b[0m\n\u001b[1;32m      1\u001b[0m \u001b[38;5;28;01mimport\u001b[39;00m \u001b[38;5;21;01mos\u001b[39;00m\n\u001b[0;32m----> 2\u001b[0m \u001b[38;5;28;01mimport\u001b[39;00m \u001b[38;5;21;01mpsi4\u001b[39;00m\n\u001b[1;32m      3\u001b[0m \u001b[38;5;28;01mimport\u001b[39;00m \u001b[38;5;21;01mresp\u001b[39;00m\n",
      "File \u001b[0;32m/work/westgroup/nora/miniconda/envs/HW2_env/lib/python3.9/site-packages/psi4/__init__.py:60\u001b[0m\n\u001b[1;32m     58\u001b[0m         \u001b[38;5;28;01mraise\u001b[39;00m \u001b[38;5;167;01mImportError\u001b[39;00m(\u001b[38;5;124m\"\u001b[39m\u001b[38;5;132;01m{0}\u001b[39;00m\u001b[38;5;130;01m\\n\u001b[39;00m\u001b[38;5;124mLikely cause: GCC >= 4.9 not in [DY]LD_LIBRARY_PATH\u001b[39m\u001b[38;5;124m\"\u001b[39m\u001b[38;5;241m.\u001b[39mformat(err))\n\u001b[1;32m     59\u001b[0m     \u001b[38;5;28;01melse\u001b[39;00m:\n\u001b[0;32m---> 60\u001b[0m         \u001b[38;5;28;01mraise\u001b[39;00m \u001b[38;5;167;01mImportError\u001b[39;00m(\u001b[38;5;124m\"\u001b[39m\u001b[38;5;132;01m{0}\u001b[39;00m\u001b[38;5;124m\"\u001b[39m\u001b[38;5;241m.\u001b[39mformat(err))\n\u001b[1;32m     62\u001b[0m \u001b[38;5;28;01mfrom\u001b[39;00m \u001b[38;5;21;01mpsi4\u001b[39;00m\u001b[38;5;21;01m.\u001b[39;00m\u001b[38;5;21;01mcore\u001b[39;00m \u001b[38;5;28;01mimport\u001b[39;00m set_output_file, get_num_threads, set_num_threads\n\u001b[1;32m     63\u001b[0m core\u001b[38;5;241m.\u001b[39minitialize()\n",
      "\u001b[0;31mImportError\u001b[0m: /work/westgroup/nora/miniconda/envs/HW2_env/lib/python3.9/site-packages/psi4/core.cpython-39-x86_64-linux-gnu.so: undefined symbol: __svml_exp4_mask_e9"
     ]
    }
   ],
   "source": [
    "import os\n",
    "import psi4\n",
    "import resp"
   ]
  }
 ],
 "metadata": {
  "kernelspec": {
   "display_name": "HW2_env",
   "language": "python",
   "name": "hw2_env"
  },
  "language_info": {
   "codemirror_mode": {
    "name": "ipython",
    "version": 3
   },
   "file_extension": ".py",
   "mimetype": "text/x-python",
   "name": "python",
   "nbconvert_exporter": "python",
   "pygments_lexer": "ipython3",
   "version": "3.9.7"
  }
 },
 "nbformat": 4,
 "nbformat_minor": 5
}
