{
 "cells": [
  {
   "cell_type": "code",
   "execution_count": 1,
   "id": "ade51e6f-0918-40a0-8599-59156efd7a06",
   "metadata": {},
   "outputs": [],
   "source": [
    "import os\n",
    "import numpy as np\n",
    "from rmgpy.rmg.main import RMG, RMG_Memory, log_conditions\n",
    "import rmgpy.chemkin\n",
    "from rmgpy.rmg.model import ReactionModel, CoreEdgeReactionModel\n",
    "from rmgpy import settings\n",
    "from rmgpy.data.rmg import RMGDatabase\n",
    "from rmgpy.molecule import Molecule\n",
    "from rmgpy.species import Species"
   ]
  },
  {
   "cell_type": "code",
   "execution_count": 2,
   "id": "bbc2e9a9-c59b-4b56-a5a9-70e6a69e3040",
   "metadata": {},
   "outputs": [
    {
     "name": "stderr",
     "output_type": "stream",
     "text": [
      "WARNING:root:Only Arrhenius and PDepArrhenius kinetics supported for duplicate reactions.\n",
      "WARNING:root:Only Arrhenius and PDepArrhenius kinetics supported for duplicate reactions.\n",
      "WARNING:root:Only Arrhenius and PDepArrhenius kinetics supported for duplicate reactions.\n",
      "WARNING:root:Only Arrhenius and PDepArrhenius kinetics supported for duplicate reactions.\n",
      "WARNING:root:Only Arrhenius and PDepArrhenius kinetics supported for duplicate reactions.\n",
      "WARNING:root:Only Arrhenius and PDepArrhenius kinetics supported for duplicate reactions.\n",
      "WARNING:root:Only Arrhenius and PDepArrhenius kinetics supported for duplicate reactions.\n",
      "WARNING:root:Only Arrhenius and PDepArrhenius kinetics supported for duplicate reactions.\n",
      "WARNING:root:Only Arrhenius and PDepArrhenius kinetics supported for duplicate reactions.\n",
      "WARNING:root:Only Arrhenius and PDepArrhenius kinetics supported for duplicate reactions.\n",
      "WARNING:root:Only Arrhenius and PDepArrhenius kinetics supported for duplicate reactions.\n",
      "WARNING:root:Only Arrhenius and PDepArrhenius kinetics supported for duplicate reactions.\n",
      "WARNING:root:Only Arrhenius and PDepArrhenius kinetics supported for duplicate reactions.\n",
      "WARNING:root:Only Arrhenius and PDepArrhenius kinetics supported for duplicate reactions.\n",
      "WARNING:root:Only Arrhenius and PDepArrhenius kinetics supported for duplicate reactions.\n",
      "WARNING:root:Only Arrhenius and PDepArrhenius kinetics supported for duplicate reactions.\n",
      "WARNING:root:Only Arrhenius and PDepArrhenius kinetics supported for duplicate reactions.\n",
      "WARNING:root:Only Arrhenius and PDepArrhenius kinetics supported for duplicate reactions.\n",
      "WARNING:root:Only Arrhenius and PDepArrhenius kinetics supported for duplicate reactions.\n",
      "WARNING:root:Only Arrhenius and PDepArrhenius kinetics supported for duplicate reactions.\n",
      "WARNING:root:Only Arrhenius and PDepArrhenius kinetics supported for duplicate reactions.\n",
      "WARNING:root:Only Arrhenius and PDepArrhenius kinetics supported for duplicate reactions.\n",
      "WARNING:root:Only Arrhenius and PDepArrhenius kinetics supported for duplicate reactions.\n",
      "WARNING:root:Only Arrhenius and PDepArrhenius kinetics supported for duplicate reactions.\n",
      "WARNING:root:Only Arrhenius and PDepArrhenius kinetics supported for duplicate reactions.\n",
      "WARNING:root:Only Arrhenius and PDepArrhenius kinetics supported for duplicate reactions.\n",
      "WARNING:root:Only Arrhenius and PDepArrhenius kinetics supported for duplicate reactions.\n",
      "WARNING:root:Only Arrhenius and PDepArrhenius kinetics supported for duplicate reactions.\n",
      "WARNING:root:Only Arrhenius and PDepArrhenius kinetics supported for duplicate reactions.\n",
      "WARNING:root:Only Arrhenius and PDepArrhenius kinetics supported for duplicate reactions.\n",
      "WARNING:root:Only Arrhenius and PDepArrhenius kinetics supported for duplicate reactions.\n",
      "WARNING:root:Only Arrhenius and PDepArrhenius kinetics supported for duplicate reactions.\n",
      "WARNING:root:Only Arrhenius and PDepArrhenius kinetics supported for duplicate reactions.\n",
      "WARNING:root:Only Arrhenius and PDepArrhenius kinetics supported for duplicate reactions.\n",
      "WARNING:root:Only Arrhenius and PDepArrhenius kinetics supported for duplicate reactions.\n",
      "WARNING:root:Only Arrhenius and PDepArrhenius kinetics supported for duplicate reactions.\n",
      "WARNING:root:Only Arrhenius and PDepArrhenius kinetics supported for duplicate reactions.\n",
      "WARNING:root:Only Arrhenius and PDepArrhenius kinetics supported for duplicate reactions.\n",
      "WARNING:root:Only Arrhenius and PDepArrhenius kinetics supported for duplicate reactions.\n",
      "WARNING:root:Only Arrhenius and PDepArrhenius kinetics supported for duplicate reactions.\n",
      "WARNING:root:Only Arrhenius and PDepArrhenius kinetics supported for duplicate reactions.\n",
      "WARNING:root:Only Arrhenius and PDepArrhenius kinetics supported for duplicate reactions.\n",
      "WARNING:root:Only Arrhenius and PDepArrhenius kinetics supported for duplicate reactions.\n",
      "WARNING:root:Only Arrhenius and PDepArrhenius kinetics supported for duplicate reactions.\n",
      "WARNING:root:Only Arrhenius and PDepArrhenius kinetics supported for duplicate reactions.\n",
      "WARNING:root:Only Arrhenius and PDepArrhenius kinetics supported for duplicate reactions.\n",
      "WARNING:root:Only Arrhenius and PDepArrhenius kinetics supported for duplicate reactions.\n",
      "WARNING:root:Only Arrhenius and PDepArrhenius kinetics supported for duplicate reactions.\n",
      "WARNING:root:Only Arrhenius and PDepArrhenius kinetics supported for duplicate reactions.\n",
      "WARNING:root:Only Arrhenius and PDepArrhenius kinetics supported for duplicate reactions.\n",
      "WARNING:root:Only Arrhenius and PDepArrhenius kinetics supported for duplicate reactions.\n",
      "WARNING:root:Only Arrhenius and PDepArrhenius kinetics supported for duplicate reactions.\n",
      "WARNING:root:Only Arrhenius and PDepArrhenius kinetics supported for duplicate reactions.\n",
      "WARNING:root:Only Arrhenius and PDepArrhenius kinetics supported for duplicate reactions.\n",
      "WARNING:root:Only Arrhenius and PDepArrhenius kinetics supported for duplicate reactions.\n",
      "WARNING:root:Only Arrhenius and PDepArrhenius kinetics supported for duplicate reactions.\n",
      "WARNING:root:Only Arrhenius and PDepArrhenius kinetics supported for duplicate reactions.\n",
      "WARNING:root:Only Arrhenius and PDepArrhenius kinetics supported for duplicate reactions.\n",
      "WARNING:root:Only Arrhenius and PDepArrhenius kinetics supported for duplicate reactions.\n",
      "WARNING:root:Only Arrhenius and PDepArrhenius kinetics supported for duplicate reactions.\n",
      "WARNING:root:Only Arrhenius and PDepArrhenius kinetics supported for duplicate reactions.\n",
      "WARNING:root:Only Arrhenius and PDepArrhenius kinetics supported for duplicate reactions.\n",
      "WARNING:root:Only Arrhenius and PDepArrhenius kinetics supported for duplicate reactions.\n",
      "WARNING:root:Only Arrhenius and PDepArrhenius kinetics supported for duplicate reactions.\n",
      "WARNING:root:Only Arrhenius and PDepArrhenius kinetics supported for duplicate reactions.\n"
     ]
    }
   ],
   "source": [
    "#load the RMG database\n",
    "database = RMGDatabase()\n",
    "\n",
    "database.load(\n",
    "    path = settings['database.directory'],\n",
    "    thermo_libraries = ['primaryThermoLibrary'] ,  # Can add others if necessary\n",
    "    kinetics_families = 'default',\n",
    "    kinetics_depositories = ['training'],\n",
    ")"
   ]
  },
  {
   "cell_type": "code",
   "execution_count": 3,
   "id": "870b6c6e-3402-492f-a4c8-c3660c6ade69",
   "metadata": {},
   "outputs": [
    {
     "data": {
      "text/plain": [
       "{'group': <rmgpy.data.thermo.ThermoGroups at 0x2b831b74a7d0>,\n",
       " 'ring': <rmgpy.data.thermo.ThermoGroups at 0x2b8221f1a090>,\n",
       " 'radical': <rmgpy.data.thermo.ThermoGroups at 0x2b831b837ad0>,\n",
       " 'polycyclic': <rmgpy.data.thermo.ThermoGroups at 0x2b831ceba3d0>,\n",
       " 'other': <rmgpy.data.thermo.ThermoGroups at 0x2b831cee0dd0>,\n",
       " 'longDistanceInteraction_cyclic': <rmgpy.data.thermo.ThermoGroups at 0x2b831cef6d90>,\n",
       " 'longDistanceInteraction_noncyclic': <rmgpy.data.thermo.ThermoGroups at 0x2b831cef6dd0>,\n",
       " 'adsorptionPt111': <rmgpy.data.thermo.ThermoGroups at 0x2b831cf04590>}"
      ]
     },
     "execution_count": 3,
     "metadata": {},
     "output_type": "execute_result"
    }
   ],
   "source": [
    "#load the correct group additivity values, hydrogen bond increment values, single ring corrections\n",
    "database.thermo.load_groups('/home/khalil.nor/Code/RMG-database/input/thermo/groups/')\n",
    "#make sure everything is loaded\n",
    "database.thermo.groups"
   ]
  },
  {
   "cell_type": "code",
   "execution_count": 72,
   "id": "1e4e5bb8-7962-4079-8604-960bc6896c10",
   "metadata": {},
   "outputs": [],
   "source": [
    "#load the molecules \n",
    "cyclohexyl_radical = Molecule(smiles='[CH]1CCCCC1')\n",
    "hexen_6_yl_radical = Molecule(smiles='C=CCCC[CH2]')"
   ]
  },
  {
   "cell_type": "code",
   "execution_count": 7,
   "id": "a957d468-dadc-4a59-9f30-e0fb04b897e7",
   "metadata": {},
   "outputs": [],
   "source": [
    "#this function in RMG accounts for HBI, ring corrections, and symmetry number \n",
    "thermo_data_hexen_6_yl = database.thermo.estimate_thermo_via_group_additivity(hexen_6_yl_radical)\n",
    "thermo_data_cyclohexyl = database.thermo.estimate_thermo_via_group_additivity(cyclohexyl_radical)\n"
   ]
  },
  {
   "cell_type": "markdown",
   "id": "968f77a7-ca42-425c-bb17-16280974c975",
   "metadata": {},
   "source": [
    "# Question 1 \n",
    "\n",
    "**Using the RMG estimation methods, the thermochemical parameters for these two species are provided below:** "
   ]
  },
  {
   "cell_type": "markdown",
   "id": "57631e0f-171e-467f-b3c4-968948e2f306",
   "metadata": {},
   "source": [
    "**For cyclohexyl radical, the JetSurF1.0 library reports (from RMG website)**\n",
    "* H(298) = 17.00 kcal/mol \n",
    "* S(298) = 77.80 cal/(mol*K)\n",
    "* Cp(298) = 25.82 cal/(mol*K)"
   ]
  },
  {
   "cell_type": "code",
   "execution_count": 5,
   "id": "425abd5f-0a4a-44cc-bb91-3f35d40fb9ef",
   "metadata": {},
   "outputs": [
    {
     "data": {
      "text/plain": [
       "NASA(polynomials=[NASAPolynomial(coeffs=[-5.18775,0.0677176,-2.83289e-05,-7.01326e-10,2.34008e-12,5782.56,50.6646], Tmin=(298,'K'), Tmax=(1755.73,'K')), NASAPolynomial(coeffs=[55.7201,-0.0223193,6.96412e-06,1.70478e-09,-2.53343e-13,-23115.2,-298.852], Tmin=(1755.73,'K'), Tmax=(5000,'K'))], Tmin=(298,'K'), Tmax=(5000,'K'), E0=(39.9688,'kJ/mol'), Cp0=(33.2579,'J/(mol*K)'), CpInf=(407.409,'J/(mol*K)'), comment=\"\"\"Thermo group additivity estimation: group(Cs-CsCsHH) + group(Cs-CsCsHH) + group(Cs-CsCsHH) + group(Cs-CsCsHH) + group(Cs-CsCsHH) + group(Cs-CsCsHH) + ring(Cyclohexane) + radical(cyclohexane)\"\"\")"
      ]
     },
     "execution_count": 5,
     "metadata": {},
     "output_type": "execute_result"
    }
   ],
   "source": [
    "cyclohexyl_species = Species(index=0, label='cyc-rad', molecule=[Molecule(smiles='[CH]1CCCCC1')])\n",
    "cyclohexyl_thermo_parameters = database.thermo.get_thermo_data_from_groups(cyclohexyl_species)\n",
    "cyclohexyl_thermo_parameters.to_nasa(298, 5000, 1000)"
   ]
  },
  {
   "cell_type": "code",
   "execution_count": 8,
   "id": "b0c717ff-0499-406d-8ac5-ba389210a49b",
   "metadata": {},
   "outputs": [
    {
     "data": {
      "text/plain": [
       "ThermoData(Tdata=([300,400,500,600,800,1000,1500],'K'), Cpdata=([106.65,144.181,178.573,211.166,262.713,298.236,349.699],'J/(mol*K)'), H298=(58.145,'kJ/mol'), S298=(332.828,'J/(mol*K)'), comment=\"\"\"Thermo group additivity estimation: group(Cs-CsCsHH) + group(Cs-CsCsHH) + group(Cs-CsCsHH) + group(Cs-CsCsHH) + group(Cs-CsCsHH) + group(Cs-CsCsHH) + ring(Cyclohexane) + radical(cyclohexane)\"\"\")"
      ]
     },
     "execution_count": 8,
     "metadata": {},
     "output_type": "execute_result"
    }
   ],
   "source": [
    "thermo_data_cyclohexyl"
   ]
  },
  {
   "cell_type": "markdown",
   "id": "85498e01-e087-4bb5-8e1b-6885365abd6c",
   "metadata": {},
   "source": [
    "**Two cells above, we calculate the thermo parameters for the cyclohexyl radical using group additivity and cast it into NASA polynomial form**\n",
    "\n",
    "\n",
    "**From above, we can see that group additivity estimated for the cyclohexyl radical:**\n",
    "* H(298) = 58.145 kJ/mol = 13.8969885 kcal/mol\n",
    "* S(298) = 332.828 J/(mol*K) = 79.54780115 cal/(mol*K)\n",
    "* Cp(300) = 106.65 J/(mol*K) = 25.4899618 cal/(mol*K)\n",
    "\n",
    "**Therefore, the group additivity thermo values that I estimated are somewhat close to the reported thermos.**"
   ]
  },
  {
   "cell_type": "code",
   "execution_count": 12,
   "id": "45153298-2a85-4ab5-9a31-cfbcac8ebe07",
   "metadata": {},
   "outputs": [
    {
     "data": {
      "text/plain": [
       "NASA(polynomials=[NASAPolynomial(coeffs=[-0.382061,0.064079,-4.11571e-05,1.34115e-08,-1.75369e-12,17245.2,33.7267], Tmin=(298,'K'), Tmax=(1791.19,'K')), NASAPolynomial(coeffs=[16.6205,0.0261098,-9.36056e-06,1.57717e-09,-1.01944e-13,11154.2,-58.2113], Tmin=(1791.19,'K'), Tmax=(5000,'K'))], Tmin=(298,'K'), Tmax=(5000,'K'), E0=(140.978,'kJ/mol'), Cp0=(33.2579,'J/(mol*K)'), CpInf=(390.78,'J/(mol*K)'), comment=\"\"\"Thermo group additivity estimation: group(Cs-CsCsHH) + group(Cs-CsCsHH) + group(Cs-(Cds-Cds)CsHH) + group(Cs-CsHHH) + group(Cds-CdsCsH) + group(Cds-CdsHH) + radical(RCCJ)\"\"\")"
      ]
     },
     "execution_count": 12,
     "metadata": {},
     "output_type": "execute_result"
    }
   ],
   "source": [
    "#now let's calculate the thermo parameters using group additivity\n",
    "cyclohexyl_species = Species(index=0, label='cyc-rad', molecule=[Molecule(smiles='[CH]1CCCCC1')])\n",
    "cyclohexyl_thermo_parameters = database.thermo.get_thermo_data_from_groups(hexen_6_yl_species)\n",
    "cyclohexyl_thermo_parameters.to_nasa(298, 5000, 1000)"
   ]
  },
  {
   "cell_type": "code",
   "execution_count": 13,
   "id": "9e9ebd2a-2ab6-44ec-ac6c-06d0ce0d4413",
   "metadata": {},
   "outputs": [
    {
     "name": "stdout",
     "output_type": "stream",
     "text": [
      "At 298 K, H(298) = 162.01857536873973 kJ/ mol, S(298) = 391.8262368332505 J/mol K, Cp(298) = 131.1393168403402 J/mol K\n"
     ]
    }
   ],
   "source": [
    "# Ugh, the RMG website does not have the interactive thermo plots for hexen_6_yl radical, so let's calculate it manually. Ugh x2\n",
    "\n",
    "# parameters in temperature range of 298 to 1000K \n",
    "a_neg_2 = 0\n",
    "a_neg_1 = 0\n",
    "a0 = -8.10229e-1\n",
    "a1 = 6.88802e-2\n",
    "a2 = -4.93843e-5\n",
    "a3 = 1.71881e-8\n",
    "a4 = -1.64486e-12\n",
    "a5 = 1.70719e4\n",
    "a6 = 3.32599e1\n",
    "\n",
    "# J / mol K\n",
    "R = 8.31446261815324\n",
    "T = 298 #K\n",
    "\n",
    "Cp_JetSurf_hexen_6_yl = R * (a_neg_2*(T**-2)+a_neg_1*(T**-1)+a0+a1*T+a2*(T**2)+a3*(T**3)+a4*(T**4)) # J/ mol K\n",
    "H_JetSurf_hexen_6_yl = R*T * (-a_neg_2*(T**-2)+a_neg_1*(np.log(T)/T)+a0+(1/2)*a1*T+(1/3)*a2*(T**2)+(1/4)*a3*(T**3)+(1/5)*a4*(T**4)+(a5/T)) #J / mol\n",
    "S_JetSurf_hexen_6_yl = R * ((-1/2)*a_neg_2*(T**-2)-a_neg_1*(T**-1)+a0*np.log(T)+a1*T+(1/2)*a2*(T**2)+(1/3)*a3*(T**3)+(1/4)*a4*(T**4)+a6) #J/ mol K\n",
    "\n",
    "print(f'At 298 K, H(298) = {H_JetSurf_hexen_6_yl/1000} kJ/ mol, S(298) = {S_JetSurf_hexen_6_yl} J/mol K, Cp(298) = {Cp_JetSurf_hexen_6_yl} J/mol K')"
   ]
  },
  {
   "cell_type": "markdown",
   "id": "d80c6f18-852d-4293-9d33-4f6571040c38",
   "metadata": {},
   "source": [
    "**For hexen_6_yl radical, the JetSurF1.0 library reports (calculated manually above)**\n",
    "\n",
    "* H(298) = 162.01857536873973 kJ/ mol\n",
    "* S(298) = 391.8262368332505 J/mol K \n",
    "* Cp(298) = 131.1393168403402 J/mol K\n"
   ]
  },
  {
   "cell_type": "code",
   "execution_count": 6,
   "id": "e1ce5d33-4cd0-42b0-bff4-1a004ef6d816",
   "metadata": {},
   "outputs": [
    {
     "data": {
      "text/plain": [
       "NASA(polynomials=[NASAPolynomial(coeffs=[-0.382061,0.064079,-4.11571e-05,1.34115e-08,-1.75369e-12,17245.2,33.7267], Tmin=(298,'K'), Tmax=(1791.19,'K')), NASAPolynomial(coeffs=[16.6205,0.0261098,-9.36056e-06,1.57717e-09,-1.01944e-13,11154.2,-58.2113], Tmin=(1791.19,'K'), Tmax=(5000,'K'))], Tmin=(298,'K'), Tmax=(5000,'K'), E0=(140.978,'kJ/mol'), Cp0=(33.2579,'J/(mol*K)'), CpInf=(390.78,'J/(mol*K)'), comment=\"\"\"Thermo group additivity estimation: group(Cs-CsCsHH) + group(Cs-CsCsHH) + group(Cs-(Cds-Cds)CsHH) + group(Cs-CsHHH) + group(Cds-CdsCsH) + group(Cds-CdsHH) + radical(RCCJ)\"\"\")"
      ]
     },
     "execution_count": 6,
     "metadata": {},
     "output_type": "execute_result"
    }
   ],
   "source": [
    "#now let's calculate the thermo parameters using group additivity\n",
    "hexen_6_yl_species = Species(index=0, label='hex-rad', molecule=[Molecule(smiles='C=CCCC[CH2]')])\n",
    "hexen_6_yl_thermo_parameters = database.thermo.get_thermo_data_from_groups(hexen_6_yl_species)\n",
    "hexen_6_yl_thermo_parameters.to_nasa(298, 5000, 1000)"
   ]
  },
  {
   "cell_type": "code",
   "execution_count": 9,
   "id": "b7823162-a923-4ea7-93b3-1f4a44182901",
   "metadata": {},
   "outputs": [
    {
     "data": {
      "text/plain": [
       "ThermoData(Tdata=([300,400,500,600,800,1000,1500],'K'), Cpdata=([128.867,161.628,190.916,215.811,254.973,284.135,328.821],'J/(mol*K)'), H298=(163.289,'kJ/mol'), S298=(406.852,'J/(mol*K)'), comment=\"\"\"Thermo group additivity estimation: group(Cs-CsCsHH) + group(Cs-CsCsHH) + group(Cs-(Cds-Cds)CsHH) + group(Cs-CsHHH) + group(Cds-CdsCsH) + group(Cds-CdsHH) + radical(RCCJ)\"\"\")"
      ]
     },
     "execution_count": 9,
     "metadata": {},
     "output_type": "execute_result"
    }
   ],
   "source": [
    "thermo_data_hexen_6_yl"
   ]
  },
  {
   "cell_type": "markdown",
   "id": "35231cec-2386-4cf2-bf94-c1ff6ad999c6",
   "metadata": {},
   "source": [
    "**Two cells above, we calculate the thermo parameters for the hexen_6_yl radical using group additivity and cast it into NASA polynomial form**\n",
    "\n",
    "**From one cell above, we can see that group additivity estimated for the hexen_6_yl radical:**\n",
    "\n",
    "* H(298) = 163.289 kJ/mol = 39.02700765 kcal/mol\n",
    "* S(298) = 406.852 J/(molK) = 97.23996176 cal/(molK)\n",
    "* Cp(300) = 128.867 J/(molK) = 30.7999522 cal/(molK)\n",
    "\n",
    "**Therefore, the group additivity thermo values that I estimated are somewhat close to the reported thermos.**"
   ]
  },
  {
   "cell_type": "markdown",
   "id": "bac531e6-1b28-4e07-876b-b5b653dae8c0",
   "metadata": {},
   "source": [
    "Now let's simulate in Cantera"
   ]
  },
  {
   "cell_type": "code",
   "execution_count": 31,
   "id": "2fefc7f3-fa11-49a2-8ed4-eba2005c552f",
   "metadata": {},
   "outputs": [
    {
     "name": "stdout",
     "output_type": "stream",
     "text": [
      "Running Cantera 2.6.0\n"
     ]
    }
   ],
   "source": [
    "import cantera as ct\n",
    "print(f'Running Cantera {ct.__version__}')"
   ]
  },
  {
   "cell_type": "code",
   "execution_count": 54,
   "id": "360facb3-4cf1-409b-9bca-ed0930424ca1",
   "metadata": {
    "scrolled": true,
    "tags": []
   },
   "outputs": [
    {
     "name": "stdout",
     "output_type": "stream",
     "text": [
      "1311.5095095095096 0.607162356376648\n"
     ]
    }
   ],
   "source": [
    "#compute the equilibrium constant\n",
    "#Keq = exp(-delta_g_std_rxn/RT) = 1 if delta_g_std_rxn is 0\n",
    "\n",
    "\n",
    "path_to_yaml = '/work/westgroup/nora/Code/Advanced_Kinetics_Class/HW3/HW3_Q1.yaml'\n",
    "gas = ct.Solution(path_to_yaml)\n",
    "\n",
    "#T=list(np.linspace(298, 2000, 10000)) tried this range first to gauge\n",
    "T=list(np.linspace(1311, 1312, 1000))\n",
    "\n",
    "for temp in T:\n",
    "    gas.TPX = temp, ct.one_atm, 'hexen_6_yl: .5, cyclohexyl: .5'\n",
    "    if abs(gas.delta_standard_gibbs[0])<1: \n",
    "        print(temp, gas.delta_standard_gibbs[0]) #[J/kmol], this gets \"Change in standard-state Gibbs free energy (independent of composition) for each reaction [J/kmol]\"\n",
    "       \n"
   ]
  },
  {
   "cell_type": "markdown",
   "id": "4119676a-1d43-42a1-8d96-a06dd196f992",
   "metadata": {},
   "source": [
    "**The temperature at which Keq = 1 is ~1311.509 K.** "
   ]
  },
  {
   "cell_type": "markdown",
   "id": "41492582-fc7c-4628-9a89-9bc7a815dfc9",
   "metadata": {},
   "source": [
    "# Question 2 \n",
    "\n",
    "As mentioned by Prof. Green in class, we will assume that the TS of the reverse reaction has a similar geometry to cyclohexyl radical. \n",
    "We will be estimating the ring opening rate coefficient (cyclohexyl -> hexen_6_yl): \n",
    "\n",
    "From conventional TST:\n",
    "\n",
    "### k = K_tunneling sym_num kBT/h exp(-∆Eo /kBT) qTS / Π qReactant,i\n",
    "\n",
    "This is a unimolecular reaction, so equation simplifies to: \n",
    "\n",
    "### k = K_tunneling sym_num kBT/h exp(-∆Eo/kBT) qTS / qReactant\n",
    "\n",
    "Here, Reactant = cyclohexyl radical.\n",
    "\n",
    "To estimate the A factor:\n",
    "\n",
    "* let's assume qTS/qReactant will be ~ 1 (likely a little higher, since the TS partition function is expected to be larger). We are assuming that the TS will look more similar to the cyclohexyl radical than the hexen_6_yl radical. \n",
    "* Let's assume tunneling doesn't matter since were at 1000K. \n",
    "* Assume symmetry number (really reaction path degeneracy) ~ 5 . \n",
    "\n",
    "\n",
    "Therefore, The A factor is ballparked to be = sym_num * kBT/h (really slightly higher). "
   ]
  },
  {
   "cell_type": "code",
   "execution_count": 15,
   "id": "1d7b5225-6541-47bc-bb78-292cb1d70da6",
   "metadata": {},
   "outputs": [
    {
     "name": "stdout",
     "output_type": "stream",
     "text": [
      "My A factor estimate is 1.0418e+14 s^-1\n"
     ]
    }
   ],
   "source": [
    "kb_div_h = 2.083661912*10**10 # Units of Hz/K\n",
    "T = 1000\n",
    "sym_num = 5 \n",
    "\n",
    "A_factor_estimate = kb_div_h * 1000 * sym_num  \n",
    "print('My A factor estimate is {:.4e} s^-1'.format(A_factor_estimate))"
   ]
  },
  {
   "cell_type": "markdown",
   "id": "d412e001-2528-493d-8ca5-176e04a84484",
   "metadata": {},
   "source": [
    "We know that the energy of the TS must be higher than any of the radicals. So let's assume that Ea >= (39.02700765 - 13.8969885 kcal/mol). The true Ea will likely be higher, since this is an estimate of the lower limit of Ea. "
   ]
  },
  {
   "cell_type": "code",
   "execution_count": 32,
   "id": "be39fae6-0ae0-414a-8d0a-64e6ae450d31",
   "metadata": {},
   "outputs": [
    {
     "name": "stdout",
     "output_type": "stream",
     "text": [
      "My estimate of the Ea is -2.5130e+04 cal/mol\n"
     ]
    }
   ],
   "source": [
    "delta_Eo = 39.02700765 - 13.8969885 #kcal/mol\n",
    "R = 1.9872036e-3 #kcal.K-1.mol-1\n",
    "T = 1000\n",
    "\n",
    "estimate_of_exponential_term = np.exp(-delta_Eo/(R*T))\n",
    "\n",
    "print('My estimate of the Ea is {:.4e} cal/mol'.format(-delta_Eo*1000))"
   ]
  },
  {
   "cell_type": "code",
   "execution_count": 34,
   "id": "69cb3413-68ec-4ad4-a209-bbd2f3af5557",
   "metadata": {},
   "outputs": [
    {
     "name": "stdout",
     "output_type": "stream",
     "text": [
      "3.3554e+08\n"
     ]
    }
   ],
   "source": [
    "#now put it together to estimate the high-P limit rate coefficient\n",
    "high_P_rate_coeff = A_factor_estimate * estimate_of_exponential_term\n",
    "print('{:.4e}'.format(high_P_rate_coeff))"
   ]
  },
  {
   "cell_type": "markdown",
   "id": "9633fdf3-803e-4a9d-9151-577df7c4f8fa",
   "metadata": {},
   "source": [
    "**The high-pressure-limit ring-opening rate coefficient for the cyclohexyl to\n",
    "hexen-6-yl radical reaction at 1000 K is 3.3554e+08 s^-1**\n",
    " "
   ]
  },
  {
   "cell_type": "code",
   "execution_count": 26,
   "id": "9850211f-4d9f-46af-abc1-e822f6400e63",
   "metadata": {},
   "outputs": [
    {
     "name": "stdout",
     "output_type": "stream",
     "text": [
      "JetSurf's A factor estimate is 9.7795e+12 s^-1. This differs by two orders of magnitude from my estimate.\n"
     ]
    }
   ],
   "source": [
    "#compare to JetSurf A factor (include in temp dependence before the exponential) \n",
    "T = 1000\n",
    "JetSurf_A = 6.03e12 * (T**0.07) \n",
    "print('JetSurf\\'s A factor estimate is {:.4e} s^-1. This differs by two orders of magnitude from my estimate.'.format(JetSurf_A))"
   ]
  },
  {
   "cell_type": "markdown",
   "id": "9661dbe7-babc-4d3e-b2d8-3473c31ce3b6",
   "metadata": {},
   "source": [
    "JetSurf's Ea is 27983 cal/mol, which is very close to my Ea estimate of 25130.019 cal/mol."
   ]
  },
  {
   "cell_type": "code",
   "execution_count": null,
   "id": "84eebc62-d198-48c0-b5b0-e9b3a83a5026",
   "metadata": {},
   "outputs": [],
   "source": [
    "Ea = 27983/1000 #kcal/mol\n",
    "\n",
    "JetSurf_exponential_term = np.exp(-Ea/(R*T)) \n",
    "JetSurf_K = JetSurf_A * JetSurf_exponential_term\n",
    "print('The k for this reaction at 1000 K from the JetSurf mechanism is {:.4e} s^-1. This differs by two magnitudes from my estimate (3.3554e+08 s^-1)'.format(JetSurf_K))"
   ]
  },
  {
   "cell_type": "markdown",
   "id": "7d3122d9-e5c4-4136-b91c-fce33e11b949",
   "metadata": {},
   "source": [
    "**The k for this reaction at 1000 K from the JetSurf mechanism is 7.4948e+06 s^-1. This differs by two magnitudes from my estimate (3.3554e+08 s^-1).**\n",
    "\n",
    "**This estimate does obey the bounds I set. JetSurf's Ea is greater than my estimated Ea (which was a lower bound), and the A factor is somewhat close to my estimate.**\n"
   ]
  },
  {
   "cell_type": "markdown",
   "id": "3cfb35c2-8ebf-44ba-adb9-98e7eb7a617e",
   "metadata": {},
   "source": [
    "# Question 3"
   ]
  },
  {
   "cell_type": "markdown",
   "id": "8430597f-75e6-4b25-bfaa-6079d6132e5f",
   "metadata": {},
   "source": [
    "* 1)     cyclohexyl radical -> hexen_6_yl\n",
    "* 2)     hexen_6_yl -> cyclohexyl radical\n",
    "* 3)     hexen_6_yl + NO -> CH2=CHCH2CH2CH2CH2NO\n",
    "\n",
    "R1 = k1*[cyclohexyl radical]\n",
    "\n",
    "R2 = k2*[hexen_6_yl]\n",
    "\n",
    "R3 = k3*[hexen_6_yl]*[NO]\n"
   ]
  },
  {
   "cell_type": "code",
   "execution_count": 11,
   "id": "62d37827-f9c9-4c85-b56d-4a0ea6297daf",
   "metadata": {},
   "outputs": [
    {
     "data": {
      "text/plain": [
       "NASA(polynomials=[NASAPolynomial(coeffs=[2.00092,0.0662461,-4.07268e-05,1.25436e-08,-1.54144e-12,8627.5,24.589], Tmin=(298,'K'), Tmax=(1907.71,'K')), NASAPolynomial(coeffs=[21.1433,0.0261096,-9.16856e-06,1.51538e-09,-9.62425e-14,1323.79,-80.1264], Tmin=(1907.71,'K'), Tmax=(5000,'K'))], Tmin=(298,'K'), Tmax=(5000,'K'), E0=(70.6563,'kJ/mol'), Cp0=(33.2579,'J/(mol*K)'), CpInf=(436.51,'J/(mol*K)'), comment=\"\"\"Thermo group additivity estimation: missing(O2d-N3d) + group(N3dOd-Cs) + group(Cs-CsCsHH) + group(Cs-CsCsHH) + group(Cs-(Cds-Cds)CsHH) + group(Cs-N3dCsHH) + group(Cds-CdsCsH) + group(Cds-CdsHH)\"\"\")"
      ]
     },
     "execution_count": 11,
     "metadata": {},
     "output_type": "execute_result"
    }
   ],
   "source": [
    "# step 1) Find thermo data for the acyclic nitroso product species.\n",
    "\n",
    "#now let's calculate the thermo parameters using group additivity\n",
    "acyclic_nitroso_product_species = Species(index=0, label='NO product', molecule=[Molecule(smiles='C=CCCCCN=O')])\n",
    "acyclic_nitroso_product_parameters = database.thermo.get_thermo_data_from_groups(acyclic_nitroso_product_species)\n",
    "acyclic_nitroso_product_parameters.to_nasa(298, 5000, 1000)"
   ]
  },
  {
   "cell_type": "code",
   "execution_count": 30,
   "id": "a6f9e876-1134-4dda-bd13-aa00d030976b",
   "metadata": {},
   "outputs": [
    {
     "data": {
      "text/plain": [
       "NASA(polynomials=[NASAPolynomial(coeffs=[3.46128,-0.00040274,2.1655e-06,-1.54106e-09,3.42284e-13,9965.53,4.98532], Tmin=(298,'K'), Tmax=(1758.58,'K')), NASAPolynomial(coeffs=[4.19717,0.000330327,-5.12744e-07,2.52516e-10,-2.33289e-14,9334.53,-0.0384739], Tmin=(1758.58,'K'), Tmax=(5000,'K'))], Tmin=(298,'K'), Tmax=(5000,'K'), E0=(82.7753,'kJ/mol'), Cp0=(29.1007,'J/(mol*K)'), CpInf=(37.4151,'J/(mol*K)'), label=\"\"\"NOJ\"\"\")"
      ]
     },
     "execution_count": 30,
     "metadata": {},
     "output_type": "execute_result"
    }
   ],
   "source": [
    "# get NO data \n",
    "NO_species = Species(index=0, label='NO', molecule=[Molecule(smiles='[N]=O')])\n",
    "NO_parameters = database.thermo.get_thermo_data_from_library(NO_species, database.thermo.libraries['primaryThermoLibrary'])\n",
    "NO_parameters[0].to_nasa(298, 5000, 1000)\n"
   ]
  },
  {
   "cell_type": "code",
   "execution_count": 139,
   "id": "77d19ff0-0db4-4008-9ac2-44dcf559e040",
   "metadata": {},
   "outputs": [
    {
     "name": "stdout",
     "output_type": "stream",
     "text": [
      "Partial Pressure of NO \t Percent of Hexen-6-yl Trapped \t Mole Fractions of Initial Species\n"
     ]
    },
    {
     "name": "stderr",
     "output_type": "stream",
     "text": [
      "/work/westgroup/nora/miniconda/envs/rmg_env/lib/python3.7/site-packages/ipykernel_launcher.py:28: RuntimeWarning: invalid value encountered in double_scalars\n"
     ]
    },
    {
     "name": "stdout",
     "output_type": "stream",
     "text": [
      "0.050251256268534356 \t 0.055710 % \t\t hexen_6_yl: 0.949748743718593, NO: 0.05025125628140703\n",
      "0.045226130640936744 \t 0.049612 % \t\t hexen_6_yl: 0.9547738693467337, NO: 0.045226130653266305\n",
      "0.040201005013389905 \t 0.043639 % \t\t hexen_6_yl: 0.9597989949748744, NO: 0.04020100502512558\n"
     ]
    }
   ],
   "source": [
    "#now use Cantera to iterate through different initial mole fractions \n",
    "print('Partial Pressure of NO','\\t', 'Percent of Hexen-6-yl Trapped', '\\t', 'Mole Fractions of Initial Species')\n",
    "path_to_yaml = '/work/westgroup/nora/Code/Advanced_Kinetics_Class/HW3/HW3_Q3.yaml'\n",
    "gas = ct.Solution(path_to_yaml)\n",
    "\n",
    "count=list(np.linspace(0, 1, 200)) \n",
    "mole_fraction_dicts=[f'hexen_6_yl: {x}, NO: {1-x}' for x in count]\n",
    "#mole_fraction_dicts=['hexen_6_yl: .6, NO: .4']#, 'hexen_6_yl: .5, NO: .5', 'hexen_6_yl: .7, NO: .3' ]\n",
    "\n",
    "for mole_fraction_dict in mole_fraction_dicts: \n",
    "    gas.TPX = 500, ct.one_atm, mole_fraction_dict\n",
    "    r = ct.ConstPressureReactor(contents=gas, energy='off') #isothermal\n",
    "    sim = ct.ReactorNet([r]) \n",
    "    #sim.verbose = True\n",
    "\n",
    "    dt_max = 1.e-7 \n",
    "    t_end = 1 * dt_max\n",
    "    states = ct.SolutionArray(gas, extra='t')\n",
    "\n",
    "\n",
    "    while sim.time < t_end:\n",
    "        sim.step()\n",
    "        states.append(r.thermo.state, t=sim.time)\n",
    "\n",
    "    initial_hex_rad_conc = states.concentrations[:,gas.species_index('hexen_6_yl')][0]\n",
    "    ending_NOproduct_conc = states.concentrations[:,gas.species_index('acyclic_nitroso_product')][-1]\n",
    "    \n",
    "    if (ending_NOproduct_conc/initial_hex_rad_conc < .06) and (ending_NOproduct_conc/initial_hex_rad_conc)>.04:\n",
    "        print((states.X[:,gas.species_index('NO')][0])*gas.P/101325, '\\t', '{:5f} %'.format(ending_NOproduct_conc/initial_hex_rad_conc), '\\t\\t', mole_fraction_dict)\n",
    " \n"
   ]
  },
  {
   "cell_type": "markdown",
   "id": "087ae06f-3bdf-4e3a-ac88-295700750e7f",
   "metadata": {},
   "source": [
    "## **The Cantera simulation shows that when the initial partial pressure of NO is 0.38 atm, 1% of the ring-opened species hexen-6-yl is trapped**"
   ]
  },
  {
   "cell_type": "code",
   "execution_count": null,
   "id": "120c3650-a79d-4c45-879b-bd5607dbaaeb",
   "metadata": {
    "collapsed": true,
    "jupyter": {
     "outputs_hidden": true
    },
    "tags": []
   },
   "outputs": [
    {
     "name": "stdout",
     "output_type": "stream",
     "text": [
      "Initializing reactor network.\n",
      "Reactor 0: 6 variables.\n",
      "              0 sensitivity params.\n",
      "Number of equations: 6\n",
      "Maximum time step:                0\n",
      "0.02862623308939047 0.004550314521288396\n"
     ]
    }
   ],
   "source": [
    "#now use Cantera to iterate through different initial mole fractions \n",
    "path_to_yaml = '/work/westgroup/nora/Code/Advanced_Kinetics_Class/HW3/HW3_Q3.yaml'\n",
    "gas = ct.Solution(path_to_yaml)\n",
    "\n",
    "#count=list(np.linspace(0, 1, 100)) \n",
    "#mole_fraction_dicts=[f'hexen_6_yl: {x}, NO: {1-x}' for x in count]\n",
    "mole_fraction_dicts=['hexen_6_yl: .7, NO: .3']#, 'hexen_6_yl: .5, NO: .5', 'hexen_6_yl: .7, NO: .3' ]\n",
    "\n",
    "for mole_fraction_dict in mole_fraction_dicts: \n",
    "    gas.TPX = 298, ct.one_atm, mole_fraction_dict\n",
    "    r = ct.ConstPressureReactor(contents=gas)#, energy='off') \n",
    "    sim = ct.ReactorNet([r]) \n",
    "    sim.verbose = True\n",
    "\n",
    "    dt_max = 1.e-5 \n",
    "    t_end = 1 * dt_max\n",
    "    states = ct.SolutionArray(gas, extra='t')\n",
    "\n",
    "\n",
    "    while gas.T <= 500:\n",
    "        sim.step()\n",
    "        states.append(r.thermo.state, t=sim.time)\n",
    "\n",
    "    initial_hex_rad_conc = states.concentrations[:,gas.species_index('hexen_6_yl')][0]\n",
    "    ending_NOproduct_conc = states.concentrations[:,gas.species_index('acyclic_nitroso_product')][-1]\n",
    "\n",
    "    print(states.concentrations[:,gas.species_index('hexen_6_yl')][0], states.concentrations[:,gas.species_index('acyclic_nitroso_product')][-1])    \n",
    "    #if \n",
    "# df = pd.DataFrame(zip(states.X[:,gas.species_index('C2H6(36)')], states.t))\n"
   ]
  },
  {
   "cell_type": "markdown",
   "id": "73246539-c825-46e0-928d-78d5b3212c7f",
   "metadata": {},
   "source": [
    "# Question 4"
   ]
  },
  {
   "cell_type": "code",
   "execution_count": 145,
   "id": "1525c767-35a4-47c9-87c8-86e4c7ee81b5",
   "metadata": {},
   "outputs": [
    {
     "data": {
      "text/plain": [
       "NASA(polynomials=[NASAPolynomial(coeffs=[2.5,0,0,0,0,-745.375,4.37967], Tmin=(200,'K'), Tmax=(1000,'K')), NASAPolynomial(coeffs=[2.5,0,0,0,0,-745.375,4.37967], Tmin=(1000,'K'), Tmax=(6000,'K'))], Tmin=(200,'K'), Tmax=(6000,'K'), Cp0=(20.7862,'J/(mol*K)'), CpInf=(20.7862,'J/(mol*K)'), label=\"\"\"Ar\"\"\")"
      ]
     },
     "execution_count": 145,
     "metadata": {},
     "output_type": "execute_result"
    }
   ],
   "source": [
    "# let's make an inert environment with Argon\n",
    "\n",
    "# get Ar data \n",
    "Ar_species = Species(index=0, label='Ar', molecule=[Molecule(smiles='[Ar]')])\n",
    "Ar_parameters = database.thermo.get_thermo_data_from_library(Ar_species, database.thermo.libraries['primaryThermoLibrary'])\n",
    "Ar_parameters[0]\n"
   ]
  },
  {
   "cell_type": "code",
   "execution_count": 203,
   "id": "5139657d-98f9-4e3b-9f4b-f5885d108566",
   "metadata": {},
   "outputs": [
    {
     "name": "stdout",
     "output_type": "stream",
     "text": [
      "Mole Fractions\t\t\t\t\t\tRing Opening Rate \t NO attachment Rate \tPartial Pressure of NO\n",
      "hexen_6_yl: .1, NO: 0.003015075376884424, Argon: .8 \t 263.0378042422054 \t 257.3341751421223 \t 0.0033388981634357\n",
      "hexen_6_yl: .1, NO: 0.0025125628140703514, Argon: .8 \t 263.8157709185349 \t 214.17644312730425 \t 0.0027839643651139854\n",
      "hexen_6_yl: .1, NO: 0.002010050251256279, Argon: .8 \t 266.92760879514003 \t 169.51038130716614 \t 0.002228412256153528\n",
      "hexen_6_yl: .1, NO: 0.0015075376884422064, Argon: .8 \t 268.19710655381914 \t 126.71489887615176 \t 0.0016722408025900434\n",
      "hexen_6_yl: .1, NO: 0.0010050251256281339, Argon: .8 \t 264.2127414640298 \t 86.01903274694283 \t 0.0011154489681525878\n",
      "hexen_6_yl: .1, NO: 0.0005025125628140726, Argon: .8 \t 267.5609337904827 \t 42.51015242892498 \t 0.0005580357142571199\n",
      "hexen_6_yl: .1, NO: 0.0, Argon: .8 \t 268.70989304360177 \t 0.0 \t 0.0\n"
     ]
    }
   ],
   "source": [
    "#now use Cantera to iterate through different initial mole fractions \n",
    "print('Mole Fractions\\t\\t\\t\\t\\t\\tRing Opening Rate','\\t', 'NO attachment Rate', '\\tPartial Pressure of NO')\n",
    "path_to_yaml = '/work/westgroup/nora/Code/Advanced_Kinetics_Class/HW3/HW3_Q4.yaml'\n",
    "gas = ct.Solution(path_to_yaml)\n",
    "\n",
    "count=list(np.linspace(0, 1, 200)) \n",
    "mole_fraction_dicts=[f'hexen_6_yl: .1, NO: {(1-x)/10}, Argon: .8' for x in count]\n",
    "#mole_fraction_dicts=['hexen_6_yl: .6, NO: .4']#, 'hexen_6_yl: .5, NO: .5', 'hexen_6_yl: .7, NO: .3' ]\n",
    "\n",
    "for mole_fraction_dict in mole_fraction_dicts: \n",
    "    gas.TPX = 1000, ct.one_atm, mole_fraction_dict\n",
    "    r = ct.ConstPressureReactor(contents=gas, energy='off') #isothermal\n",
    "    sim = ct.ReactorNet([r]) \n",
    "    #sim.verbose = True\n",
    "\n",
    "    dt_max = 1.e-7 \n",
    "    t_end = 1 * dt_max\n",
    "    states = ct.SolutionArray(gas, extra='t')\n",
    "\n",
    "\n",
    "    while sim.time < t_end:\n",
    "        sim.step()\n",
    "        states.append(r.thermo.state, t=sim.time)\n",
    "\n",
    "    reac_1_rate =  gas.reverse_rates_of_progress[0] #hex -> cyclo\n",
    "    reac_2_rate =  gas.forward_rates_of_progress[1] #NO attachment\n",
    "      \n",
    "    if reac_1_rate > reac_2_rate: \n",
    "        print(mole_fraction_dict,'\\t', gas.reverse_rates_of_progress[0], '\\t',gas.forward_rates_of_progress[1], '\\t', (states.X[:,gas.species_index('NO')][0]*gas.P)/101325)\n"
   ]
  },
  {
   "cell_type": "markdown",
   "id": "0045e565-20ec-4f3e-b83e-2f4ad802f56b",
   "metadata": {},
   "source": [
    "**If you wanted to measure the equilibrium, rather than the ring-closing rate coefficient, at 1000 K, we would use partial pressure of NO that equals 0.0033 atms or less. At this partial pressure, the NO attachment rate becomes slower than the ring-opening reaction rate (as shown above).** "
   ]
  },
  {
   "cell_type": "markdown",
   "id": "2b22111e-298c-4ae7-b118-f74714d950f0",
   "metadata": {},
   "source": [
    "# Question 5 "
   ]
  },
  {
   "cell_type": "code",
   "execution_count": null,
   "id": "c8e9b544-0fd8-4e0b-a59a-17f9011744fc",
   "metadata": {},
   "outputs": [],
   "source": [
    "Note that in addition to the reactions mentioned above, all the radicals can recombine\n",
    "and they all can react with NO, all with k’s around 1e13 cm3\n",
    "/mole-s. Also there are two\n",
    "different ring-closed radicals that can be formed by the hexenyl radical (the other one has\n",
    "a 5-membered ring, we expect it formed with a similar rate coefficent as the 6-membered\n",
    "ring). Do these possible side reactions cause any complications in your proposed\n",
    "experiments from parts 3 and 4? Briefly explain. How could you check numerically\n",
    "to see if these side reactions significantly mess up your ability to determine the k and\n",
    "Keq using these measurements?"
   ]
  },
  {
   "cell_type": "markdown",
   "id": "b57e0370-98ac-44dc-b877-13dfb5d4d9e4",
   "metadata": {},
   "source": [
    "**Do these possible side reactions cause any complications in your proposed experiments from parts 3 and 4? Briefly explain.**\n",
    "\n",
    "\n",
    "Yes, these side reactions DO cause complications in the proposed experiment for 3 and 4 for the following reasons. \n",
    "\n",
    "* we assume that the only species reacting with NO is the hexen-6-yl radical. Depending on the amount of NO-involving side reactions and the initial amount of NO, we could run into a problem where NO is not in abundance (since it is being used up in BOTH the hexen-6-yl + NO reaction and all the side reactions), thus we could get an artificially deflated amount of CH2=CHCH2CH2CH2CH2NO since NO is limited. \n",
    "\n",
    "* these other side reactions (specifically radical recombination followed by reaction with NO) could possibly generate CH2=CHCH2CH2CH2CH2NO, which would artificially inflate the amount of this species. \n",
    "\n",
    "These two bullets are problematic since our experiment relies on measuring CH2=CHCH2CH2CH2CH2NO that is solely generated from the hexen-6-yl + NO reaction and assumes there is enough NO in the system for this reaction to proceed for each for hexen-6-yl radical. \n",
    "\n",
    "**How could you check numerically to see if these side reactions significantly mess up your ability to determine the k and Keq using these measurements?**\n",
    "\n",
    "To check numerically, you could add \"example\" side reactions reactions with plausible kinetics to the system and see if that changes your initially calculated k and Keqs. \n"
   ]
  }
 ],
 "metadata": {
  "kernelspec": {
   "display_name": "rmg_env",
   "language": "python",
   "name": "rmg_env"
  },
  "language_info": {
   "codemirror_mode": {
    "name": "ipython",
    "version": 3
   },
   "file_extension": ".py",
   "mimetype": "text/x-python",
   "name": "python",
   "nbconvert_exporter": "python",
   "pygments_lexer": "ipython3",
   "version": "3.7.16"
  }
 },
 "nbformat": 4,
 "nbformat_minor": 5
}
