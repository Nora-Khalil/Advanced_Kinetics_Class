{
 "cells": [
  {
   "cell_type": "code",
   "execution_count": null,
   "id": "74338b5a-67a2-49b4-b862-36c753a66e4d",
   "metadata": {},
   "outputs": [],
   "source": [
    "#use this ipynb to create a dictionary for YF mechanism "
   ]
  },
  {
   "cell_type": "code",
   "execution_count": 1,
   "id": "5a22cc0a-bc34-4b95-955f-b50bb4fe77b3",
   "metadata": {},
   "outputs": [],
   "source": [
    "import rmgpy.chemkin\n",
    "import os\n",
    "import re\n",
    "import numpy as np\n",
    "from rmgpy.rmg.main import RMG, RMG_Memory, log_conditions\n",
    "import rmgpy.chemkin\n",
    "from rmgpy.rmg.model import ReactionModel, CoreEdgeReactionModel\n",
    "from rmgpy import settings\n",
    "from rmgpy.data.rmg import RMGDatabase\n",
    "from rmgpy.molecule import Molecule"
   ]
  },
  {
   "cell_type": "code",
   "execution_count": null,
   "id": "315a68f1-dfbc-456c-889a-5c350d5f54c6",
   "metadata": {},
   "outputs": [],
   "source": [
    "#first, read in the markdown chemkin file\n",
    "with open('YF_Mech_Final.m', 'r') as f:\n",
    "    lines = f.readlines()"
   ]
  },
  {
   "cell_type": "code",
   "execution_count": null,
   "id": "53daf5bc-a9b6-427d-9cd9-d9f98f198a15",
   "metadata": {
    "scrolled": true,
    "tags": []
   },
   "outputs": [],
   "source": [
    "#get the entire species part of the chemkin\n",
    "species_segment = lines[36:248]\n",
    "\n",
    "#toss out the lines we don't want\n",
    "species_lines = []\n",
    "for line in species_segment: \n",
    "    if line[0]=='!' or line=='\\n': \n",
    "        print(line)\n",
    "    else:\n",
    "        species_lines.append(line)\n",
    "\n",
    "        "
   ]
  },
  {
   "cell_type": "code",
   "execution_count": null,
   "id": "609bbc7c-8bcc-4962-84bb-181b96b09af1",
   "metadata": {
    "scrolled": true,
    "tags": []
   },
   "outputs": [],
   "source": [
    "spec_dict_str = []\n",
    "\n",
    "\n",
    "# get all the lines with InChI\n",
    "no_InChI_lines = []\n",
    "InChI_lines = []\n",
    "for line in species_lines: \n",
    "    if 'InChI' in line: \n",
    "        InChI_lines.append(line)\n",
    "    else:\n",
    "        no_InChI_lines.append(line)\n",
    "        \n",
    "\n",
    "# now go through all the InChI lines and match the species names to the InChi\n",
    "problematic_InChI = []\n",
    "for line in InChI_lines: \n",
    "    try:\n",
    "        species_name = re.search('^(\\S+)\\s+', line).group(1)\n",
    "        InChI = re.search('(InChI=\\S+)\\n', line).group(1)\n",
    "        mole = Molecule().from_inchi(inchistr=InChI)    \n",
    "        adj_list = mole.to_adjacency_list()\n",
    "        spec_dict_str.append(species_name+'\\n'+adj_list)\n",
    "    except:\n",
    "        problematic_InChI.append(line)\n",
    "        pass\n",
    "    \n",
    "    "
   ]
  },
  {
   "cell_type": "code",
   "execution_count": null,
   "id": "f5dd3d1f-2e21-4ed9-b6e1-0dd7f754c667",
   "metadata": {},
   "outputs": [],
   "source": [
    "species_with_no_InChI= []\n",
    "\n",
    "for line in no_InChI_lines: \n",
    "    edited_line = line.replace('\\n','   ').replace('\\t','   ')\n",
    "    #grab the first species\n",
    "    try: \n",
    "        #get the species at beginning of line \n",
    "        species = re.search('^([A-Z0-9]+) ',edited_line).group(1)\n",
    "        species_with_no_InChI.append(species)\n",
    "        #now see if there's any more in the rest of the line\n",
    "        \n",
    "        #for the species that look regular (CF2, etc). \n",
    "        species_list = re.findall(' ([A-Z0-9]+) ',edited_line)\n",
    "        species_with_no_InChI.extend(species_list)\n",
    "        \n",
    "        #for the species that have a dash in the middle (CH3-CF3)\n",
    "        species_list = re.findall(' ([A-Z0-9]+-[A-Z0-9]+) ',edited_line)\n",
    "        species_with_no_InChI.extend(species_list)\n",
    "        \n",
    "        #for the species with a : in the middle (CHF:CF2)\n",
    "        species_list = re.findall(' ([A-Z0-9]+:[A-Z0-9]+) ',edited_line)\n",
    "        species_with_no_InChI.extend(species_list)        \n",
    "\n",
    "    except AttributeError as e: \n",
    "        print(edited_line)\n",
    "        pass"
   ]
  },
  {
   "cell_type": "code",
   "execution_count": null,
   "id": "eacf0bec-dabd-432d-8d6e-2c7247f90e0e",
   "metadata": {},
   "outputs": [],
   "source": [
    "print(len(spec_dict_str))\n",
    "print(len(problematic_InChI))\n",
    "print(len(InChI_lines), len(no_InChI_lines))"
   ]
  },
  {
   "cell_type": "code",
   "execution_count": null,
   "id": "5821f53f-f86f-45ef-9173-a9585366ac51",
   "metadata": {},
   "outputs": [],
   "source": [
    "add_these = ['CH2*', 'nC4H3', 'iC4H3','C4H5-2', 'CHF','CF2','CF', 'CHF:O',\n",
    "             'CH3-CH2F',  'CH3-CHF2' , 'CH3-CF3',\n",
    "             'CH2F-CH2F', 'CH2F-CHF2', 'CH2F-CF3', 'CHF2-CHF2' ,'CHF2-CF3', 'CHF2-CHF2', 'CHF2-CF3',\n",
    "             'CF3-CF3','CH3-CHF', 'CH3-CF2',\n",
    " 'CH2F-CH2' , 'CH2F-CHF' , 'CH2F-CF2',\n",
    " 'CHF2-CH2' , 'CHF2-CHF' , 'CHF2-CF2',\n",
    " 'CF3-CH2' ,  'CF3-CHF'  , 'CF3-CF2',       \n",
    " 'CH2:CHF',    'CH2:CF2',\n",
    " 'CHF:CHF[Z]', 'CHF:CF2',\n",
    " 'CF2:CF2\\n','CH2:CF',\n",
    " 'CHF:CH[Z]', 'CHF:CF[Z]',\n",
    " 'CF2:CH' ,   'CF2:CF']\n",
    "\n",
    "species_with_no_InChI.extend(add_these)"
   ]
  },
  {
   "cell_type": "code",
   "execution_count": null,
   "id": "eca86727-9076-4f43-9e78-f48cc7c79ec5",
   "metadata": {},
   "outputs": [],
   "source": [
    "spec_dict_str"
   ]
  }
 ],
 "metadata": {
  "kernelspec": {
   "display_name": "rmg_env",
   "language": "python",
   "name": "rmg_env"
  },
  "language_info": {
   "codemirror_mode": {
    "name": "ipython",
    "version": 3
   },
   "file_extension": ".py",
   "mimetype": "text/x-python",
   "name": "python",
   "nbconvert_exporter": "python",
   "pygments_lexer": "ipython3",
   "version": "3.7.16"
  }
 },
 "nbformat": 4,
 "nbformat_minor": 5
}
